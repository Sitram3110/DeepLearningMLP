{
 "cells": [
  {
   "cell_type": "code",
   "execution_count": null,
   "metadata": {},
   "outputs": [],
   "source": [
    "import os\n",
    "\n",
    "# Danh sách các file notebook theo thứ tự cần chạy\n",
    "notebooks = [\n",
    "    \"experimentEpoch.ipynb\",\n",
    "    \"experimentSample.ipynb\",\n",
    "    \"experimentNode.ipynb\",\n",
    "    \"experimentLayer.ipynb\"\n",
    "]\n",
    "\n",
    "# Chạy từng notebook\n",
    "for notebook in notebooks:\n",
    "    os.system(f\"jupyter nbconvert --to notebook --execute {notebook} --output {notebook}\")\n"
   ]
  },
  {
   "cell_type": "code",
   "execution_count": null,
   "metadata": {},
   "outputs": [],
   "source": [
    "import subprocess\n",
    "\n",
    "# Danh sách các file notebook theo thứ tự cần chạy\n",
    "notebooks = [\n",
    "    \"experimentEpoch.ipynb\",\n",
    "    \"experimentSample.ipynb\",\n",
    "    \"experimentNode.ipynb\",\n",
    "    \"experimentLayer.ipynb\"\n",
    "]\n",
    "\n",
    "# Chạy từng notebook\n",
    "for notebook in notebooks:\n",
    "    subprocess.run([\"jupyter\", \"nbconvert\", \"--to\", \"notebook\", \"--execute\", notebook, \"--output\", notebook])\n"
   ]
  },
  {
   "cell_type": "code",
   "execution_count": null,
   "metadata": {},
   "outputs": [
    {
     "name": "stderr",
     "output_type": "stream",
     "text": [
      "<>:5: SyntaxWarning: invalid escape sequence '\\D'\n",
      "<>:5: SyntaxWarning: invalid escape sequence '\\D'\n",
      "C:\\Users\\1\\AppData\\Local\\Temp\\ipykernel_27680\\806916330.py:5: SyntaxWarning: invalid escape sequence '\\D'\n",
      "  folder_path = \"F:\\DeepLearning\\DeepLearningTesting\\DeepLearningMLP\"\n"
     ]
    }
   ],
   "source": [
    "import subprocess\n",
    "import os\n",
    "\n",
    "# Đường dẫn thư mục chứa các file notebook\n",
    "folder_path = \"F:\\DeepLearning\\DeepLearningTesting\\DeepLearningMLP\"\n",
    "\n",
    "# Danh sách các file notebook theo thứ tự cần chạy\n",
    "notebooks = [\n",
    "    \"experimentEpoch.ipynb\",\n",
    "    \"experimentSample.ipynb\",\n",
    "    \"experimentNode.ipynb\",\n",
    "    \"experimentLayer.ipynb\"\n",
    "]\n",
    "\n",
    "# Chạy từng notebook\n",
    "for notebook in notebooks:\n",
    "    # Tạo đường dẫn đầy đủ tới các file notebook\n",
    "    notebook_path = os.path.join(folder_path, notebook)\n",
    "    \n",
    "    # Chạy notebook với nbconvert\n",
    "    result = subprocess.run(\n",
    "        [\"jupyter\", \"nbconvert\", \"--to\", \"notebook\", \"--execute\", notebook_path, \"--output\", notebook_path],\n",
    "        stdout=subprocess.PIPE,\n",
    "        stderr=subprocess.PIPE\n",
    "    )\n",
    "    \n",
    "    # Kiểm tra kết quả\n",
    "    if result.returncode != 0:\n",
    "        print(f\"Error running {notebook_path}\")\n",
    "        print(result.stderr.decode())\n",
    "    else:\n",
    "        print(f\"Successfully ran {notebook_path}\")\n"
   ]
  }
 ],
 "metadata": {
  "kernelspec": {
   "display_name": "Python 3",
   "language": "python",
   "name": "python3"
  },
  "language_info": {
   "codemirror_mode": {
    "name": "ipython",
    "version": 3
   },
   "file_extension": ".py",
   "mimetype": "text/x-python",
   "name": "python",
   "nbconvert_exporter": "python",
   "pygments_lexer": "ipython3",
   "version": "3.12.0"
  }
 },
 "nbformat": 4,
 "nbformat_minor": 2
}
