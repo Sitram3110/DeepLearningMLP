{
 "cells": [
  {
   "cell_type": "code",
   "execution_count": 1,
   "metadata": {},
   "outputs": [],
   "source": [
    "import numpy as np\n",
    "import pandas as pd\n",
    "import os\n",
    "import time\n",
    "import json\n",
    "import tensorflow as tf\n",
    "import random\n",
    "from scipy.stats import multivariate_normal\n",
    "import matplotlib.pyplot as plt\n",
    "from mpl_toolkits.mplot3d import Axes3D\n",
    "from tensorflow.keras.layers import Input, Dense\n",
    "from tensorflow.keras.models import Model\n",
    "from tensorflow.keras.regularizers import l2\n",
    "from tensorflow.keras import backend as K\n",
    "from tensorflow.keras.optimizers import SGD  # Add this import\n",
    "from tensorflow.keras.callbacks import ModelCheckpoint, EarlyStopping, LambdaCallback\n",
    "from IPython import display "
   ]
  },
  {
   "cell_type": "code",
   "execution_count": 2,
   "metadata": {},
   "outputs": [],
   "source": [
    "def set_random_seed(seed=42):\n",
    "    np.random.seed(seed)\n",
    "    random.seed(seed)\n",
    "    tf.random.set_seed(seed)\n",
    "\n",
    "set_random_seed(42)"
   ]
  },
  {
   "cell_type": "code",
   "execution_count": 3,
   "metadata": {},
   "outputs": [],
   "source": [
    "\n",
    "def load_data(csv_file):\n",
    "    df_data  = pd.read_csv(csv_file)\n",
    "    return df_data[[\"x1\", \"x2\"]].values, df_data[[\"y\"]].values.flatten()\n",
    "def load_dataset(csv_train = \"./data/train.csv\",\n",
    "                 csv_valid = \"./data/valid.csv\",\n",
    "                 csv_test  = \"./data/test.csv\"):\n",
    "    # test\n",
    "    x_test, y_test = load_data(csv_test)\n",
    "\n",
    "    #train\n",
    "    x_train, y_train = load_data(csv_train)\n",
    "\n",
    "    #valid\n",
    "    x_valid, y_valid = load_data(csv_valid)\n",
    "\n",
    "    return x_train, y_train, x_valid, y_valid, x_test, y_test\n",
    "def visualize_dataset(x, y, color = \"green\", title = \"Training Data\\n\", ax = None):\n",
    "    if ax is None:\n",
    "        plt.figure(figsize=(16, 6))\n",
    "        ax = plt.subplot(1,2,1, projection='3d')\n",
    "    # if\n",
    "\n",
    "    surf = ax.scatter(x[:,0], x[:,1], y, c = color)\n",
    "    ax.set_frame_on\n",
    "    ax.set_xlabel('x1', labelpad = 5, fontdict=dict(fontsize = 14))\n",
    "    ax.set_ylabel('x2', labelpad = 5, fontdict=dict(fontsize = 14))\n",
    "    ax.set_zlabel(\"y\", labelpad = 5, fontdict=dict(fontsize = 14))\n",
    "    plt.legend(['Gaussian values'])\n",
    "    plt.title(title, fontdict=dict(fontsize = 20))"
   ]
  },
  {
   "cell_type": "code",
   "execution_count": 4,
   "metadata": {},
   "outputs": [],
   "source": [
    "x_train, y_train, x_valid, y_valid, x_test, y_test = load_dataset(csv_train=\"./data/train.csv\", csv_valid=\"./data/valid.csv\", csv_test=\"./data/test.csv\")"
   ]
  },
  {
   "cell_type": "markdown",
   "metadata": {},
   "source": [
    "# Some Function"
   ]
  },
  {
   "cell_type": "code",
   "execution_count": 5,
   "metadata": {},
   "outputs": [],
   "source": [
    "def visualize_logs(visualize_data, group_data, figsize = (10, 5), is_show = True, label_size = 12, title_size = 16, save_path = None):\n",
    "    \"\"\"\n",
    "    visualize_data = df_logs[50:].to_dict(orient='list')\n",
    "    group_data     = [{\"x\": \"epoch\", \"y\": [\"mean_squared_error\", \"val_mean_squared_error\"],\n",
    "                       \"title\": \"Error at Epoch {epoch}: {val_mean_squared_error:.4f}\\n\",\n",
    "                       \"style\": \"min\"},\n",
    "                      {\"x\": \"epoch\", \"y\": [\"loss\", \"val_loss\"],\n",
    "                       \"title\": \"Loss at Epoch {epoch}: {val_loss:.4f}\\n\",\n",
    "                       \"style\": \"min\"}]\n",
    "    figsize        = (10, 5)\n",
    "    visualize_logs(visualize_data, group_data, figsize)\n",
    "    \"\"\"\n",
    "    import matplotlib.ticker as ticker\n",
    "    import matplotlib.pyplot as plt, numpy as np\n",
    "\n",
    "    fig = plt.figure(figsize=figsize)\n",
    "    for idx, group in enumerate(group_data):\n",
    "        x_axis_name, y_axis_names, title, style = group[\"x\"], group[\"y\"], group[\"title\"], group[\"style\"]\n",
    "        x_values = visualize_data[x_axis_name]\n",
    "        end_logs = dict([(x_axis_name, x_values[-1])])\n",
    "\n",
    "        ax = plt.subplot(1, len(group_data), idx%len(group_data) + 1)\n",
    "        ax.xaxis.set_major_locator(ticker.MaxNLocator(integer=True))\n",
    "\n",
    "        for y_axis_name in y_axis_names:\n",
    "            y_values = visualize_data[y_axis_name]\n",
    "            if style is not None and style != \"\":\n",
    "                y_values = []\n",
    "                for i in range(len(visualize_data[y_axis_name])):\n",
    "                    if style == \"median\":\n",
    "                        y_values.append(np.median(visualize_data[y_axis_name][:i+1]))\n",
    "                    elif style == \"avg\":\n",
    "                        y_values.append(np.average(visualize_data[y_axis_name][:i+1]))\n",
    "                    elif style == \"max\":\n",
    "                        y_values.append(np.max(visualize_data[y_axis_name][:i+1]))\n",
    "                    elif style == \"min\":\n",
    "                        y_values.append(np.min(visualize_data[y_axis_name][:i+1]))\n",
    "            # if\n",
    "            end_logs.update(dict([(y_axis_name, y_values[-1])]))\n",
    "            ax.plot(x_values, y_values)\n",
    "        pass\n",
    "        title = title.format(**end_logs)\n",
    "\n",
    "        ax.set_xlabel(x_axis_name, fontsize = label_size)\n",
    "        ax.legend(y_axis_names, loc='upper left', fontsize = label_size)\n",
    "        ax.set_title(title, fontsize = title_size)\n",
    "    # for\n",
    "\n",
    "    if save_path is not None:\n",
    "        save_dir = os.path.dirname(save_path)\n",
    "        if save_dir != \"\" and os.path.exists(save_dir) == False: os.makedirs(save_dir)\n",
    "        fig.savefig(save_path)\n",
    "    # if\n",
    "\n",
    "    if is_show == True:\n",
    "        plt.show()\n",
    "        return None\n",
    "    return fig\n",
    "# visualize_logs\n",
    "def summarize_diagnostics(history):\n",
    "    # plot loss\n",
    "    plt.figure(figsize=(10,10))\n",
    "    plt.subplot(211)\n",
    "    plt.title(\"Mean Squared Error\")\n",
    "    plt.plot(history.history[\"loss\"], color=\"blue\", label=\"train\")\n",
    "    plt.plot(history.history['val_loss'], color=\"orange\", label='test')\n",
    "# summarize_diagnostics"
   ]
  },
  {
   "cell_type": "markdown",
   "metadata": {},
   "source": [
    "# Network Structure"
   ]
  },
  {
   "cell_type": "code",
   "execution_count": 6,
   "metadata": {},
   "outputs": [],
   "source": [
    "def build_model():\n",
    "    inp = Input(shape=(2,), name='Input')\n",
    "    x = Dense(units=20, activation='relu', name='HiddenLayer')(inp)\n",
    "    output_label = Dense(units=1, activation='linear', name='Output')(x)\n",
    "    model = Model(inputs=inp, outputs=output_label)\n",
    "    model.summary()\n",
    "    return model"
   ]
  },
  {
   "cell_type": "markdown",
   "metadata": {},
   "source": [
    "# Experiment Epoch"
   ]
  },
  {
   "cell_type": "markdown",
   "metadata": {},
   "source": [
    "## Model"
   ]
  },
  {
   "cell_type": "code",
   "execution_count": 7,
   "metadata": {},
   "outputs": [
    {
     "data": {
      "text/html": [
       "<pre style=\"white-space:pre;overflow-x:auto;line-height:normal;font-family:Menlo,'DejaVu Sans Mono',consolas,'Courier New',monospace\"><span style=\"font-weight: bold\">Model: \"functional\"</span>\n",
       "</pre>\n"
      ],
      "text/plain": [
       "\u001b[1mModel: \"functional\"\u001b[0m\n"
      ]
     },
     "metadata": {},
     "output_type": "display_data"
    },
    {
     "data": {
      "text/html": [
       "<pre style=\"white-space:pre;overflow-x:auto;line-height:normal;font-family:Menlo,'DejaVu Sans Mono',consolas,'Courier New',monospace\">┏━━━━━━━━━━━━━━━━━━━━━━━━━━━━━━━━━┳━━━━━━━━━━━━━━━━━━━━━━━━┳━━━━━━━━━━━━━━━┓\n",
       "┃<span style=\"font-weight: bold\"> Layer (type)                    </span>┃<span style=\"font-weight: bold\"> Output Shape           </span>┃<span style=\"font-weight: bold\">       Param # </span>┃\n",
       "┡━━━━━━━━━━━━━━━━━━━━━━━━━━━━━━━━━╇━━━━━━━━━━━━━━━━━━━━━━━━╇━━━━━━━━━━━━━━━┩\n",
       "│ Input (<span style=\"color: #0087ff; text-decoration-color: #0087ff\">InputLayer</span>)              │ (<span style=\"color: #00d7ff; text-decoration-color: #00d7ff\">None</span>, <span style=\"color: #00af00; text-decoration-color: #00af00\">2</span>)              │             <span style=\"color: #00af00; text-decoration-color: #00af00\">0</span> │\n",
       "├─────────────────────────────────┼────────────────────────┼───────────────┤\n",
       "│ HiddenLayer (<span style=\"color: #0087ff; text-decoration-color: #0087ff\">Dense</span>)             │ (<span style=\"color: #00d7ff; text-decoration-color: #00d7ff\">None</span>, <span style=\"color: #00af00; text-decoration-color: #00af00\">20</span>)             │            <span style=\"color: #00af00; text-decoration-color: #00af00\">60</span> │\n",
       "├─────────────────────────────────┼────────────────────────┼───────────────┤\n",
       "│ Output (<span style=\"color: #0087ff; text-decoration-color: #0087ff\">Dense</span>)                  │ (<span style=\"color: #00d7ff; text-decoration-color: #00d7ff\">None</span>, <span style=\"color: #00af00; text-decoration-color: #00af00\">1</span>)              │            <span style=\"color: #00af00; text-decoration-color: #00af00\">21</span> │\n",
       "└─────────────────────────────────┴────────────────────────┴───────────────┘\n",
       "</pre>\n"
      ],
      "text/plain": [
       "┏━━━━━━━━━━━━━━━━━━━━━━━━━━━━━━━━━┳━━━━━━━━━━━━━━━━━━━━━━━━┳━━━━━━━━━━━━━━━┓\n",
       "┃\u001b[1m \u001b[0m\u001b[1mLayer (type)                   \u001b[0m\u001b[1m \u001b[0m┃\u001b[1m \u001b[0m\u001b[1mOutput Shape          \u001b[0m\u001b[1m \u001b[0m┃\u001b[1m \u001b[0m\u001b[1m      Param #\u001b[0m\u001b[1m \u001b[0m┃\n",
       "┡━━━━━━━━━━━━━━━━━━━━━━━━━━━━━━━━━╇━━━━━━━━━━━━━━━━━━━━━━━━╇━━━━━━━━━━━━━━━┩\n",
       "│ Input (\u001b[38;5;33mInputLayer\u001b[0m)              │ (\u001b[38;5;45mNone\u001b[0m, \u001b[38;5;34m2\u001b[0m)              │             \u001b[38;5;34m0\u001b[0m │\n",
       "├─────────────────────────────────┼────────────────────────┼───────────────┤\n",
       "│ HiddenLayer (\u001b[38;5;33mDense\u001b[0m)             │ (\u001b[38;5;45mNone\u001b[0m, \u001b[38;5;34m20\u001b[0m)             │            \u001b[38;5;34m60\u001b[0m │\n",
       "├─────────────────────────────────┼────────────────────────┼───────────────┤\n",
       "│ Output (\u001b[38;5;33mDense\u001b[0m)                  │ (\u001b[38;5;45mNone\u001b[0m, \u001b[38;5;34m1\u001b[0m)              │            \u001b[38;5;34m21\u001b[0m │\n",
       "└─────────────────────────────────┴────────────────────────┴───────────────┘\n"
      ]
     },
     "metadata": {},
     "output_type": "display_data"
    },
    {
     "data": {
      "text/html": [
       "<pre style=\"white-space:pre;overflow-x:auto;line-height:normal;font-family:Menlo,'DejaVu Sans Mono',consolas,'Courier New',monospace\"><span style=\"font-weight: bold\"> Total params: </span><span style=\"color: #00af00; text-decoration-color: #00af00\">81</span> (324.00 B)\n",
       "</pre>\n"
      ],
      "text/plain": [
       "\u001b[1m Total params: \u001b[0m\u001b[38;5;34m81\u001b[0m (324.00 B)\n"
      ]
     },
     "metadata": {},
     "output_type": "display_data"
    },
    {
     "data": {
      "text/html": [
       "<pre style=\"white-space:pre;overflow-x:auto;line-height:normal;font-family:Menlo,'DejaVu Sans Mono',consolas,'Courier New',monospace\"><span style=\"font-weight: bold\"> Trainable params: </span><span style=\"color: #00af00; text-decoration-color: #00af00\">81</span> (324.00 B)\n",
       "</pre>\n"
      ],
      "text/plain": [
       "\u001b[1m Trainable params: \u001b[0m\u001b[38;5;34m81\u001b[0m (324.00 B)\n"
      ]
     },
     "metadata": {},
     "output_type": "display_data"
    },
    {
     "data": {
      "text/html": [
       "<pre style=\"white-space:pre;overflow-x:auto;line-height:normal;font-family:Menlo,'DejaVu Sans Mono',consolas,'Courier New',monospace\"><span style=\"font-weight: bold\"> Non-trainable params: </span><span style=\"color: #00af00; text-decoration-color: #00af00\">0</span> (0.00 B)\n",
       "</pre>\n"
      ],
      "text/plain": [
       "\u001b[1m Non-trainable params: \u001b[0m\u001b[38;5;34m0\u001b[0m (0.00 B)\n"
      ]
     },
     "metadata": {},
     "output_type": "display_data"
    }
   ],
   "source": [
    "model = build_model()"
   ]
  },
  {
   "cell_type": "markdown",
   "metadata": {},
   "source": [
    "## Training"
   ]
  },
  {
   "cell_type": "code",
   "execution_count": 8,
   "metadata": {},
   "outputs": [
    {
     "name": "stdout",
     "output_type": "stream",
     "text": [
      "WARNING:tensorflow:From c:\\Users\\1\\AppData\\Local\\Programs\\Python\\Python312\\Lib\\site-packages\\keras\\src\\backend\\common\\global_state.py:82: The name tf.reset_default_graph is deprecated. Please use tf.compat.v1.reset_default_graph instead.\n",
      "\n"
     ]
    },
    {
     "data": {
      "text/html": [
       "<pre style=\"white-space:pre;overflow-x:auto;line-height:normal;font-family:Menlo,'DejaVu Sans Mono',consolas,'Courier New',monospace\"><span style=\"font-weight: bold\">Model: \"functional\"</span>\n",
       "</pre>\n"
      ],
      "text/plain": [
       "\u001b[1mModel: \"functional\"\u001b[0m\n"
      ]
     },
     "metadata": {},
     "output_type": "display_data"
    },
    {
     "data": {
      "text/html": [
       "<pre style=\"white-space:pre;overflow-x:auto;line-height:normal;font-family:Menlo,'DejaVu Sans Mono',consolas,'Courier New',monospace\">┏━━━━━━━━━━━━━━━━━━━━━━━━━━━━━━━━━┳━━━━━━━━━━━━━━━━━━━━━━━━┳━━━━━━━━━━━━━━━┓\n",
       "┃<span style=\"font-weight: bold\"> Layer (type)                    </span>┃<span style=\"font-weight: bold\"> Output Shape           </span>┃<span style=\"font-weight: bold\">       Param # </span>┃\n",
       "┡━━━━━━━━━━━━━━━━━━━━━━━━━━━━━━━━━╇━━━━━━━━━━━━━━━━━━━━━━━━╇━━━━━━━━━━━━━━━┩\n",
       "│ Input (<span style=\"color: #0087ff; text-decoration-color: #0087ff\">InputLayer</span>)              │ (<span style=\"color: #00d7ff; text-decoration-color: #00d7ff\">None</span>, <span style=\"color: #00af00; text-decoration-color: #00af00\">2</span>)              │             <span style=\"color: #00af00; text-decoration-color: #00af00\">0</span> │\n",
       "├─────────────────────────────────┼────────────────────────┼───────────────┤\n",
       "│ HiddenLayer (<span style=\"color: #0087ff; text-decoration-color: #0087ff\">Dense</span>)             │ (<span style=\"color: #00d7ff; text-decoration-color: #00d7ff\">None</span>, <span style=\"color: #00af00; text-decoration-color: #00af00\">20</span>)             │            <span style=\"color: #00af00; text-decoration-color: #00af00\">60</span> │\n",
       "├─────────────────────────────────┼────────────────────────┼───────────────┤\n",
       "│ Output (<span style=\"color: #0087ff; text-decoration-color: #0087ff\">Dense</span>)                  │ (<span style=\"color: #00d7ff; text-decoration-color: #00d7ff\">None</span>, <span style=\"color: #00af00; text-decoration-color: #00af00\">1</span>)              │            <span style=\"color: #00af00; text-decoration-color: #00af00\">21</span> │\n",
       "└─────────────────────────────────┴────────────────────────┴───────────────┘\n",
       "</pre>\n"
      ],
      "text/plain": [
       "┏━━━━━━━━━━━━━━━━━━━━━━━━━━━━━━━━━┳━━━━━━━━━━━━━━━━━━━━━━━━┳━━━━━━━━━━━━━━━┓\n",
       "┃\u001b[1m \u001b[0m\u001b[1mLayer (type)                   \u001b[0m\u001b[1m \u001b[0m┃\u001b[1m \u001b[0m\u001b[1mOutput Shape          \u001b[0m\u001b[1m \u001b[0m┃\u001b[1m \u001b[0m\u001b[1m      Param #\u001b[0m\u001b[1m \u001b[0m┃\n",
       "┡━━━━━━━━━━━━━━━━━━━━━━━━━━━━━━━━━╇━━━━━━━━━━━━━━━━━━━━━━━━╇━━━━━━━━━━━━━━━┩\n",
       "│ Input (\u001b[38;5;33mInputLayer\u001b[0m)              │ (\u001b[38;5;45mNone\u001b[0m, \u001b[38;5;34m2\u001b[0m)              │             \u001b[38;5;34m0\u001b[0m │\n",
       "├─────────────────────────────────┼────────────────────────┼───────────────┤\n",
       "│ HiddenLayer (\u001b[38;5;33mDense\u001b[0m)             │ (\u001b[38;5;45mNone\u001b[0m, \u001b[38;5;34m20\u001b[0m)             │            \u001b[38;5;34m60\u001b[0m │\n",
       "├─────────────────────────────────┼────────────────────────┼───────────────┤\n",
       "│ Output (\u001b[38;5;33mDense\u001b[0m)                  │ (\u001b[38;5;45mNone\u001b[0m, \u001b[38;5;34m1\u001b[0m)              │            \u001b[38;5;34m21\u001b[0m │\n",
       "└─────────────────────────────────┴────────────────────────┴───────────────┘\n"
      ]
     },
     "metadata": {},
     "output_type": "display_data"
    },
    {
     "data": {
      "text/html": [
       "<pre style=\"white-space:pre;overflow-x:auto;line-height:normal;font-family:Menlo,'DejaVu Sans Mono',consolas,'Courier New',monospace\"><span style=\"font-weight: bold\"> Total params: </span><span style=\"color: #00af00; text-decoration-color: #00af00\">81</span> (324.00 B)\n",
       "</pre>\n"
      ],
      "text/plain": [
       "\u001b[1m Total params: \u001b[0m\u001b[38;5;34m81\u001b[0m (324.00 B)\n"
      ]
     },
     "metadata": {},
     "output_type": "display_data"
    },
    {
     "data": {
      "text/html": [
       "<pre style=\"white-space:pre;overflow-x:auto;line-height:normal;font-family:Menlo,'DejaVu Sans Mono',consolas,'Courier New',monospace\"><span style=\"font-weight: bold\"> Trainable params: </span><span style=\"color: #00af00; text-decoration-color: #00af00\">81</span> (324.00 B)\n",
       "</pre>\n"
      ],
      "text/plain": [
       "\u001b[1m Trainable params: \u001b[0m\u001b[38;5;34m81\u001b[0m (324.00 B)\n"
      ]
     },
     "metadata": {},
     "output_type": "display_data"
    },
    {
     "data": {
      "text/html": [
       "<pre style=\"white-space:pre;overflow-x:auto;line-height:normal;font-family:Menlo,'DejaVu Sans Mono',consolas,'Courier New',monospace\"><span style=\"font-weight: bold\"> Non-trainable params: </span><span style=\"color: #00af00; text-decoration-color: #00af00\">0</span> (0.00 B)\n",
       "</pre>\n"
      ],
      "text/plain": [
       "\u001b[1m Non-trainable params: \u001b[0m\u001b[38;5;34m0\u001b[0m (0.00 B)\n"
      ]
     },
     "metadata": {},
     "output_type": "display_data"
    },
    {
     "data": {
      "image/png": "[encoded data removed]",
      "text/plain": [
       "<Figure size 1000x600 with 2 Axes>"
      ]
     },
     "metadata": {},
     "output_type": "display_data"
    },
    {
     "name": "stdout",
     "output_type": "stream",
     "text": [
      "> training time is 3.5107 minutes\n"
     ]
    }
   ],
   "source": [
    "K.clear_session()\n",
    "model = build_model()\n",
    "\n",
    "# OPTIMIZATION\n",
    "model.compile(loss='mean_squared_error', optimizer=SGD(learning_rate=0.01), metrics=['mean_squared_error'])\n",
    "\n",
    "# CALLBACKS\n",
    "callbacks = []\n",
    "\n",
    "# + ModelCheckPoint\n",
    "save_dir = \"./data/model/train_01\"\n",
    "template_name= \"funcApxm_model_01_{epoch:02d}_{val_loss:.3f}_val_acc-{val_mean_squared_error:.3f}.keras\"\n",
    "if os.path.exists(save_dir) == False: os.makedirs(save_dir)\n",
    "modekcheckpoint_callback = ModelCheckpoint(filepath=os.path.join(save_dir, template_name),\n",
    "    monitor='val_loss',\n",
    "    verbose=0,\n",
    "    save_best_only=True,\n",
    "    mode='auto',  # min, max, auto\n",
    "    save_freq='epoch'  # Replaces 'period', saves every epoch\n",
    "                                          )\n",
    "callbacks.append(modekcheckpoint_callback)\n",
    "\n",
    "# + Early Stopping\n",
    "earlystopping_callback = EarlyStopping(monitor='val_loss', patience= 10)\n",
    "callbacks.append(earlystopping_callback)\n",
    "\n",
    "\n",
    "# + Visualize logs\n",
    "review_logs = {}\n",
    "def custom_on_epoch_end(self, epoch, logs, **kwargs):\n",
    "    review_logs = kwargs[\"review_logs\"]\n",
    "    if epoch == 0:\n",
    "        review_logs[\"epoch\"] = [epoch]\n",
    "        for key in logs.keys(): review_logs[key] = [logs[key]]\n",
    "    # if\n",
    "    review_logs[\"epoch\"].append(epoch)\n",
    "    for key in logs.keys(): review_logs[key].append(logs[key])\n",
    "\n",
    "    visualize_data = review_logs\n",
    "    group_view     = [{\"x\": \"epoch\", \"y\": [\"loss\", \"val_loss\"],\n",
    "                       \"title\": \"Loss at Epoch {epoch}: {val_loss:.6f}\\n\",\n",
    "                       \"style\": \"median\"},\n",
    "                      {\"x\": \"epoch\", \"y\": [\"mean_squared_error\", \"val_mean_squared_error\"],\n",
    "                       \"title\": \"MSE at Epoch {epoch}: {val_mean_squared_error:.6f}\\n\",\n",
    "                       \"style\": None}\n",
    "                     ]\n",
    "    fig = visualize_logs(visualize_data, group_view, figsize = (10, 6), is_show = False, save_path = os.path.join(\"./data/model/train_01\", \"logs.png\"))\n",
    "    plt.close()\n",
    "    if epoch == 0:\n",
    "        display.display(fig, display_id=\"logs\")\n",
    "    else:\n",
    "        display.update_display(fig, display_id=\"logs\")\n",
    "    pass\n",
    "# custom_on_epoch_end\n",
    "\n",
    "custom_callbacks = LambdaCallback()\n",
    "custom_callbacks.on_epoch_end = lambda epoch, logs: custom_on_epoch_end(custom_callbacks, epoch, logs, review_logs = review_logs)\n",
    "callbacks.append(custom_callbacks)\n",
    "\n",
    "# TRAINING\n",
    "batch_size = 128\n",
    "epochs = 500\n",
    "\n",
    "starting_time = time.time()\n",
    "history = model.fit(x_train, y_train,\n",
    "                    validation_data=(x_valid, y_valid),\n",
    "                    batch_size=batch_size,\n",
    "                    epochs=epochs,\n",
    "                    callbacks = callbacks,\n",
    "                    verbose = 0)\n",
    "print('> training time is %.4f minutes' % ((time.time() - starting_time)/60))\n",
    "\n"
   ]
  },
  {
   "cell_type": "code",
   "execution_count": 9,
   "metadata": {},
   "outputs": [
    {
     "name": "stdout",
     "output_type": "stream",
     "text": [
      "> Final visualization saved at ./epoch/final_results.png\n"
     ]
    }
   ],
   "source": [
    "# Sau khi training hoàn tất, lưu kết quả cuối cùng\n",
    "group_view = [{\"x\": \"epoch\", \"y\": [\"loss\", \"val_loss\"],\n",
    "                       \"title\": \"Loss at Epoch {epoch}: {val_loss:.6f}\\n\",\n",
    "                       \"style\": \"median\"},\n",
    "                      {\"x\": \"epoch\", \"y\": [\"mean_squared_error\", \"val_mean_squared_error\"],\n",
    "                       \"title\": \"MSE at Epoch {epoch}: {val_mean_squared_error:.6f}\\n\",\n",
    "                       \"style\": None}\n",
    "                     ]\n",
    "\n",
    "# Đường dẫn lưu kết quả\n",
    "final_save_path = \"./epoch/final_results.png\"\n",
    "os.makedirs(\"./epoch\", exist_ok=True)  # Tạo thư mục ./epoch nếu chưa tồn tại\n",
    "\n",
    "# Vẽ và lưu biểu đồ\n",
    "fig = visualize_logs(\n",
    "    review_logs, group_view, figsize=(10, 6), is_show=False, save_path=final_save_path\n",
    ")\n",
    "plt.close()\n",
    "\n",
    "print(f\"> Final visualization saved at {final_save_path}\")\n"
   ]
  },
  {
   "cell_type": "markdown",
   "metadata": {},
   "source": [
    "## Evaluating"
   ]
  },
  {
   "cell_type": "code",
   "execution_count": 10,
   "metadata": {},
   "outputs": [
    {
     "name": "stdout",
     "output_type": "stream",
     "text": [
      "499\n"
     ]
    }
   ],
   "source": [
    "epoch_opt = np.argmin(history.history[\"val_mean_squared_error\"])\n",
    "print(epoch_opt)"
   ]
  },
  {
   "cell_type": "code",
   "execution_count": 11,
   "metadata": {},
   "outputs": [
    {
     "data": {
      "text/plain": [
       "'./data/model/train_01\\\\funcApxm_model_01_500_0.001_val_acc-0.001.keras'"
      ]
     },
     "execution_count": 11,
     "metadata": {},
     "output_type": "execute_result"
    }
   ],
   "source": [
    "save_name = template_name.format(epoch = epoch_opt + 1, \n",
    "                 val_mean_squared_error = history.history[\"val_mean_squared_error\"][epoch_opt], \n",
    "                 val_loss= history.history[\"val_loss\"][epoch_opt])\n",
    "save_path = os.path.join(save_dir, save_name)\n",
    "save_path"
   ]
  },
  {
   "cell_type": "code",
   "execution_count": 12,
   "metadata": {},
   "outputs": [
    {
     "name": "stdout",
     "output_type": "stream",
     "text": [
      "Test loss: 0.001052991719916463\n",
      "Test MSE: 0.001052991719916463\n"
     ]
    }
   ],
   "source": [
    "from keras.models import load_model\n",
    "\n",
    "model = load_model(save_path)\n",
    "score = model.evaluate(x_test, y_test, verbose=0)\n",
    "print('Test loss:', score[0])\n",
    "print('Test MSE:', score[1])\n"
   ]
  },
  {
   "cell_type": "code",
   "execution_count": 13,
   "metadata": {},
   "outputs": [
    {
     "name": "stdout",
     "output_type": "stream",
     "text": [
      "Điểm bão hòa phát hiện tại epoch: 156\n",
      "Validation MSE tại điểm bão hòa: 0.00108312\n"
     ]
    }
   ],
   "source": [
    "# Ngưỡng giảm MSE nhỏ nhất\n",
    "tolerance = 1e-7\n",
    "patience = 10  # Số epoch liên tiếp không cải thiện\n",
    "\n",
    "# Lấy giá trị MSE từ history\n",
    "val_mse = np.array(history.history[\"val_mean_squared_error\"])\n",
    "\n",
    "# Tính độ chênh lệch MSE giữa các epoch liên tiếp\n",
    "mse_diff = np.abs(np.diff(val_mse))\n",
    "\n",
    "# Xác định điểm bão hòa\n",
    "saturation_epoch = None\n",
    "for i in range(len(mse_diff)):\n",
    "    # Nếu chênh lệch nhỏ hơn tolerance và tiếp tục không cải thiện trong \"patience\" epoch\n",
    "    if mse_diff[i] < tolerance and all(d < tolerance for d in mse_diff[i:i+patience]):\n",
    "        saturation_epoch = i + 1  # Epoch bắt đầu từ 1\n",
    "        break\n",
    "\n",
    "if saturation_epoch:\n",
    "    mse_at_saturation = val_mse[saturation_epoch - 1]  # Lấy giá trị MSE tại epoch (trừ 1 vì index bắt đầu từ 0)\n",
    "    print(f\"Điểm bão hòa phát hiện tại epoch: {saturation_epoch}\")\n",
    "    print(f\"Validation MSE tại điểm bão hòa: {mse_at_saturation:.8f}\")\n",
    "else:\n",
    "    print(\"Không tìm thấy điểm bão hòa rõ ràng.\")\n"
   ]
  },
  {
   "cell_type": "code",
   "execution_count": 14,
   "metadata": {},
   "outputs": [
    {
     "data": {
      "text/plain": [
       "'./data/model/train_01\\\\funcApxm_model_01_156_0.001_val_acc-0.001.keras'"
      ]
     },
     "execution_count": 14,
     "metadata": {},
     "output_type": "execute_result"
    }
   ],
   "source": [
    "\n",
    "save_name = template_name.format(epoch = saturation_epoch, \n",
    "                 val_mean_squared_error = history.history[\"val_mean_squared_error\"][epoch_opt], \n",
    "                 val_loss= history.history[\"val_loss\"][epoch_opt])\n",
    "save_path = os.path.join(save_dir, save_name)\n",
    "save_path"
   ]
  },
  {
   "cell_type": "code",
   "execution_count": 15,
   "metadata": {},
   "outputs": [
    {
     "name": "stdout",
     "output_type": "stream",
     "text": [
      "Test loss: 0.0012116568395867944\n",
      "Test MSE: 0.0012116568395867944\n"
     ]
    }
   ],
   "source": [
    "\n",
    "model = load_model(save_path)\n",
    "score = model.evaluate(x_test, y_test, verbose=0)\n",
    "print('Test loss:', score[0])\n",
    "print('Test MSE:', score[1])\n"
   ]
  },
  {
   "cell_type": "markdown",
   "metadata": {},
   "source": [
    "## Report"
   ]
  }
 ],
 "metadata": {
  "kernelspec": {
   "display_name": "Python 3",
   "language": "python",
   "name": "python3"
  },
  "language_info": {
   "codemirror_mode": {
    "name": "ipython",
    "version": 3
   },
   "file_extension": ".py",
   "mimetype": "text/x-python",
   "name": "python",
   "nbconvert_exporter": "python",
   "pygments_lexer": "ipython3",
   "version": "3.12.0"
  }
 },
 "nbformat": 4,
 "nbformat_minor": 2
}
